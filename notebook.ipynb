{
 "cells": [
  {
   "cell_type": "code",
   "execution_count": 11,
   "metadata": {},
   "outputs": [],
   "source": [
    "import torch\n",
    "from tokenizer import tokenizer\n",
    "from torch.utils.data import Dataset, SubsetRandomSampler, DataLoader\n",
    "import numpy as np\n",
    "\n",
    "def preprocess_corpus(corpus: str) -> str:\n",
    "    return tokenizer.preprocess(corpus)\n",
    "\n",
    "class TextDataset(Dataset):\n",
    "    def __init__(self, corpus: str, context_len: int) -> None:\n",
    "        super().__init__()\n",
    "        self.data = torch.tensor(tokenizer.encode(corpus), dtype=torch.long)\n",
    "        self.context_len = context_len\n",
    "        self.size = len(self.data) - context_len\n",
    "\n",
    "    def __len__(self) -> int:\n",
    "        return self.size\n",
    "\n",
    "    def __getitem__(self, index: int):\n",
    "        x = self.data[index : index + self.context_len]\n",
    "        y = self.data[index + 1 : index + self.context_len + 1]\n",
    "        return x, y\n",
    "\n",
    "def get_dataloader(corpus: str, batch_size: int, context_len: int, cv_ratio: float, num_workers: int, device: str, shuffle: bool = True):\n",
    "    dataset_obj = TextDataset(corpus, context_len)\n",
    "    indices = list(range(len(dataset_obj)))\n",
    "    if shuffle:\n",
    "        np.random.shuffle(indices)\n",
    "    split = int(len(indices) * cv_ratio)\n",
    "    train_indices = indices[split:]\n",
    "    val_indices = indices[:split]\n",
    "    train_sampler = SubsetRandomSampler(train_indices)\n",
    "    val_sampler = SubsetRandomSampler(val_indices)\n",
    "    \n",
    "    # Enable pin_memory if using CUDA\n",
    "    pin_memory = True if \"cuda\" in device.lower() else False\n",
    "    \n",
    "    train_loader = DataLoader(dataset_obj, batch_size=batch_size, sampler=train_sampler,\n",
    "                              num_workers=num_workers, pin_memory=pin_memory)\n",
    "    val_loader = DataLoader(dataset_obj, batch_size=batch_size, sampler=val_sampler,\n",
    "                            num_workers=num_workers, pin_memory=pin_memory)\n",
    "    return train_loader, val_loader\n",
    "    "
   ]
  },
  {
   "cell_type": "code",
   "execution_count": null,
   "metadata": {},
   "outputs": [],
   "source": [
    "file = \"data/lyrics.txt\"\n",
    "with open(file, \"r\", encoding=\"UTF-8\") as f:\n",
    "    corpus = f.read()\n",
    "\n",
    "corpus = preprocess_corpus(corpus)\n",
    "train_loader, val_loader = get_dataloader(corpus, 256, 256, 0.1, 4, \"cuda\")\n",
    "\n",
    "\n",
    "\n"
   ]
  },
  {
   "cell_type": "code",
   "execution_count": 8,
   "metadata": {},
   "outputs": [
    {
     "name": "stdout",
     "output_type": "stream",
     "text": [
      "11697251\n"
     ]
    }
   ],
   "source": [
    "print(len(train_loader))\n",
    "print(len(val_loader))"
   ]
  },
  {
   "cell_type": "code",
   "execution_count": null,
   "metadata": {},
   "outputs": [],
   "source": []
  }
 ],
 "metadata": {
  "kernelspec": {
   "display_name": ".venv",
   "language": "python",
   "name": "python3"
  },
  "language_info": {
   "codemirror_mode": {
    "name": "ipython",
    "version": 3
   },
   "file_extension": ".py",
   "mimetype": "text/x-python",
   "name": "python",
   "nbconvert_exporter": "python",
   "pygments_lexer": "ipython3",
   "version": "3.12.8"
  }
 },
 "nbformat": 4,
 "nbformat_minor": 2
}
