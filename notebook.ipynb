{
 "cells": [
  {
   "cell_type": "code",
   "execution_count": 12,
   "metadata": {},
   "outputs": [],
   "source": [
    "file = \"data/lyrics.txt\"\n",
    "with open(file, \"r\", encoding=\"UTF-8\") as f:\n",
    "    corpus = f.read()\n",
    "\n",
    "corpus = preprocess_corpus(corpus)\n",
    "\n",
    "\n",
    "\n"
   ]
  },
  {
   "cell_type": "code",
   "execution_count": 14,
   "metadata": {},
   "outputs": [],
   "source": [
    "\n",
    "import torch\n",
    "from torch.utils.data import Dataset\n",
    "from tokenizer import tokenizer\n",
    "\n",
    "# Define the custom dataset for generating token sequences\n",
    "class TextDataset(Dataset):\n",
    "    def __init__(self, text, block_size):\n",
    "        # Assuming tokenizer.encode returns a list of token IDs\n",
    "        self.data = tokenizer.encode(text)\n",
    "        self.block_size = block_size\n",
    "\n",
    "    def __len__(self):\n",
    "        # Each item is a sequence of length block_size, so we lose block_size tokens\n",
    "        return len(self.data) - self.block_size\n",
    "\n",
    "    def __getitem__(self, idx):\n",
    "        # x is a sequence and y is the same sequence shifted by one token\n",
    "        x = self.data[idx : idx + self.block_size]\n",
    "        y = self.data[idx + 1 : idx + 1 + self.block_size]\n",
    "        return torch.tensor(x, dtype=torch.long), torch.tensor(y, dtype=torch.long)\n"
   ]
  },
  {
   "cell_type": "code",
   "execution_count": 23,
   "metadata": {},
   "outputs": [],
   "source": [
    "\n",
    "# Create the dataset using the preprocessed corpus and context length from the configuration\n",
    "dataset = TextDataset(corpus, 4096)\n",
    "\n",
    "# Split the dataset: 90% for training and 10% for validation\n",
    "val_size = int(0.1 * len(dataset))\n",
    "train_size = len(dataset) - val_size\n"
   ]
  },
  {
   "cell_type": "code",
   "execution_count": null,
   "metadata": {},
   "outputs": [],
   "source": [
    "file = \"data/dummy.txt\"\n",
    "\n",
    "text = \"TPUs are better than GPUs.\"*1000\n",
    "with open(file,\"w\") as f:\n",
    "    f.write(text)\n",
    "\n"
   ]
  },
  {
   "cell_type": "code",
   "execution_count": 24,
   "metadata": {},
   "outputs": [
    {
     "name": "stdout",
     "output_type": "stream",
     "text": [
      "5664373\n",
      "50979361\n"
     ]
    }
   ],
   "source": [
    "print(val_size)\n",
    "print(train_size)"
   ]
  },
  {
   "cell_type": "code",
   "execution_count": null,
   "metadata": {},
   "outputs": [],
   "source": []
  }
 ],
 "metadata": {
  "kernelspec": {
   "display_name": ".venv",
   "language": "python",
   "name": "python3"
  },
  "language_info": {
   "codemirror_mode": {
    "name": "ipython",
    "version": 3
   },
   "file_extension": ".py",
   "mimetype": "text/x-python",
   "name": "python",
   "nbconvert_exporter": "python",
   "pygments_lexer": "ipython3",
   "version": "3.12.8"
  }
 },
 "nbformat": 4,
 "nbformat_minor": 2
}
